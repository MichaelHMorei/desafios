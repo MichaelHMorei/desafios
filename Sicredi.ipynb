{
  "nbformat": 4,
  "nbformat_minor": 0,
  "metadata": {
    "colab": {
      "name": "Sicredi.ipynb",
      "provenance": [],
      "collapsed_sections": [],
      "authorship_tag": "ABX9TyP6LFjX3CrDI55ZOuP1dG3V",
      "include_colab_link": true
    },
    "kernelspec": {
      "name": "python3",
      "display_name": "Python 3"
    },
    "language_info": {
      "name": "python"
    }
  },
  "cells": [
    {
      "cell_type": "markdown",
      "metadata": {
        "id": "view-in-github",
        "colab_type": "text"
      },
      "source": [
        "<a href=\"https://colab.research.google.com/github/MichaelHMorei/desafios/blob/main/Sicredi.ipynb\" target=\"_parent\"><img src=\"https://colab.research.google.com/assets/colab-badge.svg\" alt=\"Open In Colab\"/></a>"
      ]
    },
    {
      "cell_type": "code",
      "execution_count": 1,
      "metadata": {
        "id": "LnAhNJHkRmKz"
      },
      "outputs": [],
      "source": [
        "!apt-get install openjdk-8-jdk-headless -qq > /dev/null\n",
        "!wget -q https://apache.osuosl.org/spark/spark-3.2.1/spark-3.2.1-bin-hadoop2.7.tgz\n",
        "!tar xf spark-3.2.1-bin-hadoop2.7.tgz"
      ]
    },
    {
      "cell_type": "code",
      "source": [
        "!pip install -q findspark\n",
        "import os\n",
        "os.environ[\"JAVA_HOME\"] = \"/usr/lib/jvm/java-8-openjdk-amd64\"\n",
        "os.environ[\"SPARK_HOME\"] = \"/content/spark-3.2.1-bin-hadoop2.7\""
      ],
      "metadata": {
        "id": "ar6U-nPnR5mw"
      },
      "execution_count": 2,
      "outputs": []
    },
    {
      "cell_type": "code",
      "source": [
        "os.environ[\"SPARK_HOME\"]"
      ],
      "metadata": {
        "colab": {
          "base_uri": "https://localhost:8080/",
          "height": 36
        },
        "id": "_LRtQLKdR_d8",
        "outputId": "2154e569-46a3-4c22-cbdd-d93a5fe7e98d"
      },
      "execution_count": 3,
      "outputs": [
        {
          "output_type": "execute_result",
          "data": {
            "text/plain": [
              "'/content/spark-3.2.1-bin-hadoop2.7'"
            ],
            "application/vnd.google.colaboratory.intrinsic+json": {
              "type": "string"
            }
          },
          "metadata": {},
          "execution_count": 3
        }
      ]
    },
    {
      "cell_type": "code",
      "source": [
        "import findspark\n",
        "findspark.init()\n",
        "from pyspark.sql import SparkSession\n",
        "spark = SparkSession.builder.master(\"local[*]\").getOrCreate()"
      ],
      "metadata": {
        "id": "D_YXwy_lSBdS"
      },
      "execution_count": 4,
      "outputs": []
    },
    {
      "cell_type": "code",
      "source": [
        "pip install spark-nlp==2.4.2"
      ],
      "metadata": {
        "colab": {
          "base_uri": "https://localhost:8080/"
        },
        "id": "iJMnv4h8SFLH",
        "outputId": "59b21f65-a9d9-4d30-ab24-868d6bef650c"
      },
      "execution_count": 5,
      "outputs": [
        {
          "output_type": "stream",
          "name": "stdout",
          "text": [
            "Looking in indexes: https://pypi.org/simple, https://us-python.pkg.dev/colab-wheels/public/simple/\n",
            "Collecting spark-nlp==2.4.2\n",
            "  Downloading spark_nlp-2.4.2-py2.py3-none-any.whl (108 kB)\n",
            "\u001b[K     |████████████████████████████████| 108 kB 27.7 MB/s \n",
            "\u001b[?25hInstalling collected packages: spark-nlp\n",
            "Successfully installed spark-nlp-2.4.2\n"
          ]
        }
      ]
    },
    {
      "cell_type": "code",
      "source": [
        "import sparknlp\n",
        "\n",
        "spark = sparknlp.start()\n",
        "\n",
        "print(\"Spark NLP version: \", sparknlp.version())\n",
        "print(\"Apache Spark version: \", spark.version)"
      ],
      "metadata": {
        "colab": {
          "base_uri": "https://localhost:8080/"
        },
        "id": "sx_2rTFFSKOu",
        "outputId": "998b0e5a-fb03-4382-99ab-625f88982c12"
      },
      "execution_count": 6,
      "outputs": [
        {
          "output_type": "stream",
          "name": "stdout",
          "text": [
            "Spark NLP version:  2.4.2\n",
            "Apache Spark version:  3.2.1\n"
          ]
        }
      ]
    },
    {
      "cell_type": "code",
      "source": [
        "#Importando bibliotecas\n",
        "from pyspark.sql import SparkSession\n",
        "from pyspark.sql.functions import *\n",
        "import pyspark\t\n",
        "from pyspark.sql.types import *\n",
        "from datetime import *"
      ],
      "metadata": {
        "id": "VqTh5ef4TeiZ"
      },
      "execution_count": 79,
      "outputs": []
    },
    {
      "cell_type": "code",
      "source": [
        "# Obtendo a data/hora atual\n",
        " \n",
        "date1 = datetime.now()\n",
        "date_atual = date1.strftime('%d/%m/%Y')\n",
        "hora_Atual = date1.strftime('%H:%M:%S')\n",
        "\n",
        "print('#### Processamento iniciado dia: '+date_atual+' as: '+hora_Atual+' ####' )"
      ],
      "metadata": {
        "colab": {
          "base_uri": "https://localhost:8080/"
        },
        "id": "8Xo9RrGHkMBO",
        "outputId": "f3aa3cb3-2b65-412a-ac05-eee72d073cff"
      },
      "execution_count": 80,
      "outputs": [
        {
          "output_type": "stream",
          "name": "stdout",
          "text": [
            "#### Processamento iniciado dia: 30/06/2022 as: 12:13:14 ####\n"
          ]
        }
      ]
    },
    {
      "cell_type": "code",
      "source": [
        "#Lendo arquivos do google drive\n",
        "from google.colab import drive\n",
        "drive.mount(\"/content/gdrive\")\n",
        "\n",
        "# Lendo os arquivos e passando para uma variavel\n",
        "df_Movimento = spark.read.csv(\"/content/gdrive/My Drive/Sicredi/Dim_Movimento.csv\",inferSchema = 'True', sep =\";\", header ='True') \n",
        "df_Cartao = spark.read.csv(\"/content/gdrive/My Drive/Sicredi/Dim_Cartao.csv\",inferSchema = 'True', sep =\";\", header ='True') \n",
        "df_Associado = spark.read.csv(\"/content/gdrive/My Drive/Sicredi/Dim_Associado.csv\",inferSchema = 'True', sep =\";\", header ='True') \n",
        "df_Conta = spark.read.csv(\"/content/gdrive/My Drive/Sicredi/Dim_Conta.csv\",inferSchema = 'True',sep =\";\" , header ='True') \n"
      ],
      "metadata": {
        "colab": {
          "base_uri": "https://localhost:8080/"
        },
        "id": "MhAlUR7DKAA-",
        "outputId": "49939131-00b0-4e47-ad0f-f4336e13d1f5"
      },
      "execution_count": 81,
      "outputs": [
        {
          "output_type": "stream",
          "name": "stdout",
          "text": [
            "Drive already mounted at /content/gdrive; to attempt to forcibly remount, call drive.mount(\"/content/gdrive\", force_remount=True).\n"
          ]
        }
      ]
    },
    {
      "cell_type": "code",
      "source": [
        "#Criando tabelas temporarias SQL\n",
        "\n",
        "df_Movimento.createOrReplaceTempView('Temp_Movimento')\n",
        "df_Cartao.createOrReplaceTempView('Temp_Cartao')\n",
        "df_Associado.createOrReplaceTempView('Temp_Associado')\n",
        "df_Conta.createOrReplaceTempView('Temp_Conta')"
      ],
      "metadata": {
        "id": "75rZ6bcLT4a7"
      },
      "execution_count": 82,
      "outputs": []
    },
    {
      "cell_type": "code",
      "source": [
        "movimento_flat = spark.sql(\"\"\"\n",
        "\n",
        "    SELECT \n",
        "          CAST(nome AS STRING) AS nome_associado,\n",
        "          CAST(sobrenome AS STRING) AS sobrenome_associado ,\n",
        "          CAST(idade AS STRING) AS idade_associado,\n",
        "          CAST( vlr_transacao AS STRING) AS vlr_transacao_movimento,\n",
        "          CAST(des_transacao AS STRING) AS des_trasacao_movimento,\n",
        "          CAST(data_movimento AS STRING) AS data_movimento,\n",
        "          CAST(num_cartao AS STRING) AS numero_cartao,\n",
        "          CAST(nome_impresso AS STRING) AS nome_impresso_cartao,\n",
        "          CAST(tipo AS STRING) AS tipo_conta,\n",
        "          CAST(data_criacao AS STRING) AS data_criacao_conta\n",
        "         \n",
        "  FROM Temp_Movimento \n",
        "\n",
        "    INNER JOIN Temp_Cartao ON\n",
        "    Temp_Cartao.id = Temp_Movimento.id_cartao\n",
        "\n",
        "    INNER JOIN Temp_Conta ON\n",
        "    Temp_Conta.id = Temp_Cartao.id_conta\n",
        "\n",
        "    INNER JOIN Temp_Associado ON\n",
        "    Temp_Associado.id = Temp_Conta.id_associado\n",
        "\n",
        "\"\"\")"
      ],
      "metadata": {
        "id": "EA3um-MHVYkE"
      },
      "execution_count": 83,
      "outputs": []
    },
    {
      "cell_type": "code",
      "source": [
        "movimento_flat.show(truncate=False)"
      ],
      "metadata": {
        "colab": {
          "base_uri": "https://localhost:8080/"
        },
        "id": "laPhhCZsVj9E",
        "outputId": "7a94716d-d462-4ee2-be1f-1e40011a76e1"
      },
      "execution_count": 85,
      "outputs": [
        {
          "output_type": "stream",
          "name": "stdout",
          "text": [
            "+--------------+-------------------+---------------+-----------------------+----------------------+-----------------------+-------------+--------------------+--------------+-----------------------+\n",
            "|nome_associado|sobrenome_associado|idade_associado|vlr_transacao_movimento|des_trasacao_movimento|data_movimento         |numero_cartao|nome_impresso_cartao|tipo_conta    |data_criacao_conta     |\n",
            "+--------------+-------------------+---------------+-----------------------+----------------------+-----------------------+-------------+--------------------+--------------+-----------------------+\n",
            "|Erick         |Moura              |51             |2200.0                 |Supemercado BH        |2022-06-29 21:03:13.130|13093354     |Erick Moura         |Poupanca      |2022-06-29 19:49:36.970|\n",
            "|Noah          |Fogaça             |18             |1589.0                 |Mercado Livre         |2022-06-29 21:03:13.133|36036650     |Noah Fogaça         |Poupanca      |2022-06-29 19:49:36.970|\n",
            "|Fernanda      |Marques            |57             |5563.0                 |Shopee                |2022-06-29 21:03:13.133|31780217     |Fernanda Marques    |Poupanca      |2022-06-29 19:49:36.970|\n",
            "|Fernanda      |Evelyn             |52             |114.0                  |Americanas            |2022-06-29 21:03:13.133|2550643      |Fernanda Evelyn     |Conta-Corrente|2022-06-29 19:49:36.970|\n",
            "|Noah          |Fogaça             |18             |1000.0                 |Kabum                 |2022-06-29 21:03:13.133|36036650     |Noah Fogaça         |Poupanca      |2022-06-29 19:49:36.970|\n",
            "|Noah          |Fogaça             |18             |1225.0                 |Amazon                |2022-06-29 21:03:13.133|86047221     |Noah Fogaça         |Poupanca      |2022-06-29 19:49:36.963|\n",
            "|Kaique        |Costela            |22             |1210.0                 |Submarino             |2022-06-29 21:03:13.133|13293807     |Kaique Costela      |Poupanca      |2022-06-29 19:49:36.970|\n",
            "|Maria         |Fernanda           |25             |321.0                  |Farmacia GP           |2022-06-29 21:03:13.133|25502379     |Maria Fernanda      |Conta-Corrente|2022-06-29 19:49:36.963|\n",
            "|Maria         |Fernanda           |25             |310.0                  |Supermercado Luna     |2022-06-29 21:03:13.133|58937404     |Maria Fernanda      |Poupanca      |2022-06-29 19:49:36.970|\n",
            "|Isabelly      |Campos             |22             |4557.0                 |Bar do Zé             |2022-06-29 21:03:13.137|14740689     |Isabelly Campos     |Conta-Corrente|2022-06-29 19:49:36.970|\n",
            "|Isabelly      |Campos             |22             |10000.0                |Bar do João           |2022-06-29 21:03:13.137|73362872     |Isabelly Campos     |Poupanca      |2022-06-29 19:49:36.967|\n",
            "|Bruno         |Fogaça             |36             |1500.0                 |Supermercado Luna     |2022-06-29 21:03:13.137|54732480     |Bruno Fogaça        |Conta-Corrente|2022-06-29 19:49:36.967|\n",
            "|Bruno         |Fogaça             |36             |2000.0                 |Bar do João           |2022-06-29 21:03:13.137|44947443     |Bruno Fogaça        |Poupanca      |2022-06-29 19:49:36.970|\n",
            "|Luiza         |Nascimento         |45             |3000.0                 |des_transação         |2022-06-29 21:03:13.137|47350281     |Luiza Nascimento    |Conta-Corrente|2022-06-29 19:49:36.967|\n",
            "|Luiza         |Maria              |78             |450.0                  |Supemercado BH        |2022-06-29 21:03:13.137|37983060     |Luiza Maria         |Poupanca      |2022-06-29 19:49:36.967|\n",
            "|João          |Guilherme          |20             |750.0                  |Farmacia Viva Mais    |2022-06-29 21:03:13.137|7261967      |João Guilherme      |Poupanca      |2022-06-29 19:49:36.967|\n",
            "|Heloísa       |Aragão             |21             |850.0                  |Mercado Livre         |2022-06-29 21:03:13.137|61862538     |Heloísa Aragão      |Conta-Corrente|2022-06-29 19:49:36.967|\n",
            "|Miguel        |Silva              |23             |11350.0                |Shopee                |2022-06-29 21:03:13.137|80171085     |Miguel Silva        |Poupanca      |2022-06-29 19:49:36.967|\n",
            "|Miguel        |Gonçalves          |25             |128.0                  |Americanas            |2022-06-29 21:03:13.137|6983020      |Miguel Gonçalves    |Conta-Corrente|2022-06-29 19:49:36.967|\n",
            "|Ana           |Porto              |56             |150.0                  |Kabum                 |2022-06-29 21:03:13.140|54499295     |Ana Porto           |Conta-Corrente|2022-06-29 19:49:36.970|\n",
            "+--------------+-------------------+---------------+-----------------------+----------------------+-----------------------+-------------+--------------------+--------------+-----------------------+\n",
            "only showing top 20 rows\n",
            "\n"
          ]
        }
      ]
    },
    {
      "cell_type": "code",
      "source": [
        "movimento_flat.write.format(\"csv\").save(\"/content/gdrive/My Drive/Sicredi/movimento_flat.csv\")"
      ],
      "metadata": {
        "id": "99N7frfhe_OW"
      },
      "execution_count": 78,
      "outputs": []
    },
    {
      "cell_type": "code",
      "source": [
        "# Fim do processamento\n",
        "#Horario de processamento\n",
        "\n",
        "data_now = datetime.now()\n",
        "data = data_now.strftime(\"%Y/%m/%d\")\n",
        "hora = data_now.strftime(\"%H:%M:%S\")\n",
        "print('### Processamento finalizado: '+data+' as '+hora+' ###')"
      ],
      "metadata": {
        "colab": {
          "base_uri": "https://localhost:8080/"
        },
        "id": "XOcPQOlobVqA",
        "outputId": "0fb532c6-22c5-40fe-ac89-a5efc9d08de9"
      },
      "execution_count": 75,
      "outputs": [
        {
          "output_type": "stream",
          "name": "stdout",
          "text": [
            "### Processamento finalizado: 2022/06/30 as 11:59:48 ###\n"
          ]
        }
      ]
    }
  ]
}