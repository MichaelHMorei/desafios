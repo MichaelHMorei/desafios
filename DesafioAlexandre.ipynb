{
  "nbformat": 4,
  "nbformat_minor": 0,
  "metadata": {
    "colab": {
      "name": "DesafioAlexandre.ipynb",
      "provenance": [],
      "collapsed_sections": [],
      "authorship_tag": "ABX9TyPS/h9KfxNb6MaV2kCDnd6W",
      "include_colab_link": true
    },
    "kernelspec": {
      "name": "python3",
      "display_name": "Python 3"
    },
    "language_info": {
      "name": "python"
    }
  },
  "cells": [
    {
      "cell_type": "markdown",
      "metadata": {
        "id": "view-in-github",
        "colab_type": "text"
      },
      "source": [
        "<a href=\"https://colab.research.google.com/github/MichaelHMorei/desafios/blob/main/DesafioAlexandre.ipynb\" target=\"_parent\"><img src=\"https://colab.research.google.com/assets/colab-badge.svg\" alt=\"Open In Colab\"/></a>"
      ]
    },
    {
      "cell_type": "code",
      "execution_count": 1,
      "metadata": {
        "id": "LnAhNJHkRmKz"
      },
      "outputs": [],
      "source": [
        "!apt-get install openjdk-8-jdk-headless -qq > /dev/null\n",
        "!wget -q https://apache.osuosl.org/spark/spark-3.2.1/spark-3.2.1-bin-hadoop2.7.tgz\n",
        "!tar xf spark-3.2.1-bin-hadoop2.7.tgz"
      ]
    },
    {
      "cell_type": "code",
      "source": [
        "!pip install -q findspark\n",
        "import os\n",
        "os.environ[\"JAVA_HOME\"] = \"/usr/lib/jvm/java-8-openjdk-amd64\"\n",
        "os.environ[\"SPARK_HOME\"] = \"/content/spark-3.2.1-bin-hadoop2.7\""
      ],
      "metadata": {
        "id": "ar6U-nPnR5mw"
      },
      "execution_count": 2,
      "outputs": []
    },
    {
      "cell_type": "code",
      "source": [
        "os.environ[\"SPARK_HOME\"]"
      ],
      "metadata": {
        "colab": {
          "base_uri": "https://localhost:8080/",
          "height": 35
        },
        "id": "_LRtQLKdR_d8",
        "outputId": "de5e319e-127f-4225-d3f5-0f93e3665645"
      },
      "execution_count": 3,
      "outputs": [
        {
          "output_type": "execute_result",
          "data": {
            "text/plain": [
              "'/content/spark-3.2.1-bin-hadoop2.7'"
            ],
            "application/vnd.google.colaboratory.intrinsic+json": {
              "type": "string"
            }
          },
          "metadata": {},
          "execution_count": 3
        }
      ]
    },
    {
      "cell_type": "code",
      "source": [
        "import findspark\n",
        "findspark.init()\n",
        "from pyspark.sql import SparkSession\n",
        "spark = SparkSession.builder.master(\"local[*]\").getOrCreate()"
      ],
      "metadata": {
        "id": "D_YXwy_lSBdS"
      },
      "execution_count": 4,
      "outputs": []
    },
    {
      "cell_type": "code",
      "source": [
        "pip install spark-nlp==2.4.2"
      ],
      "metadata": {
        "colab": {
          "base_uri": "https://localhost:8080/"
        },
        "id": "iJMnv4h8SFLH",
        "outputId": "0f21624f-c481-4a72-c9f1-71b4da3713db"
      },
      "execution_count": 5,
      "outputs": [
        {
          "output_type": "stream",
          "name": "stdout",
          "text": [
            "Looking in indexes: https://pypi.org/simple, https://us-python.pkg.dev/colab-wheels/public/simple/\n",
            "Collecting spark-nlp==2.4.2\n",
            "  Downloading spark_nlp-2.4.2-py2.py3-none-any.whl (108 kB)\n",
            "\u001b[K     |████████████████████████████████| 108 kB 5.1 MB/s \n",
            "\u001b[?25hInstalling collected packages: spark-nlp\n",
            "Successfully installed spark-nlp-2.4.2\n"
          ]
        }
      ]
    },
    {
      "cell_type": "code",
      "source": [
        "import sparknlp\n",
        "\n",
        "spark = sparknlp.start()\n",
        "\n",
        "print(\"Spark NLP version: \", sparknlp.version())\n",
        "print(\"Apache Spark version: \", spark.version)"
      ],
      "metadata": {
        "colab": {
          "base_uri": "https://localhost:8080/"
        },
        "id": "sx_2rTFFSKOu",
        "outputId": "6336b7ec-731e-456f-c0e9-527859ecec75"
      },
      "execution_count": 6,
      "outputs": [
        {
          "output_type": "stream",
          "name": "stdout",
          "text": [
            "Spark NLP version:  2.4.2\n",
            "Apache Spark version:  3.2.1\n"
          ]
        }
      ]
    },
    {
      "cell_type": "code",
      "source": [
        "#Salvando/Lendo arquivos no google drive\n",
        "from google.colab import drive\n",
        "drive.mount(\"/content/gdrive\")\n",
        "\n",
        "# Lendo os arquivos e passando para uma variavel\n",
        "df_covid = spark.read.csv(\"/content/gdrive/My Drive/CovidDataset/caso_full_covid.csv\",inferSchema = 'True',header ='True') \n"
      ],
      "metadata": {
        "colab": {
          "base_uri": "https://localhost:8080/"
        },
        "id": "MhAlUR7DKAA-",
        "outputId": "ac25f3f1-dc0e-4223-8e27-223b6975b446"
      },
      "execution_count": 7,
      "outputs": [
        {
          "output_type": "stream",
          "name": "stdout",
          "text": [
            "Mounted at /content/gdrive\n"
          ]
        }
      ]
    },
    {
      "cell_type": "code",
      "source": [
        "# Unzip fonte de dados eventos_de_fluxo.csv\n",
        "#with gzip.open(\"/content/gdrive/My Drive/DesafioAlexandre/eventos_de_fluxo.csv.gz\", 'rb') as entrada:\n",
        "     # with gzip.open(\"/content/gdrive/My Drive/DesafioAlexandre/eventos_de_fluxo.csv\", 'wb') as saida:\n",
        "     #  shutil.copyfileobj(entrada,saida)"
      ],
      "metadata": {
        "id": "YF2bF9QXK2f-",
        "colab": {
          "base_uri": "https://localhost:8080/",
          "height": 217
        },
        "outputId": "c45dab36-a918-4261-dbaa-bcbddf6d0039"
      },
      "execution_count": null,
      "outputs": [
        {
          "output_type": "error",
          "ename": "NameError",
          "evalue": "ignored",
          "traceback": [
            "\u001b[0;31m---------------------------------------------------------------------------\u001b[0m",
            "\u001b[0;31mNameError\u001b[0m                                 Traceback (most recent call last)",
            "\u001b[0;32m<ipython-input-109-1055182d2263>\u001b[0m in \u001b[0;36m<module>\u001b[0;34m()\u001b[0m\n\u001b[1;32m      1\u001b[0m \u001b[0;31m# Unzip fonte de dados eventos_de_fluxo.csv\u001b[0m\u001b[0;34m\u001b[0m\u001b[0;34m\u001b[0m\u001b[0;34m\u001b[0m\u001b[0m\n\u001b[0;32m----> 2\u001b[0;31m \u001b[0;32mwith\u001b[0m \u001b[0mgzip\u001b[0m\u001b[0;34m.\u001b[0m\u001b[0mopen\u001b[0m\u001b[0;34m(\u001b[0m\u001b[0;34m\"/content/gdrive/My Drive/DesafioAlexandre/eventos_de_fluxo.csv.gz\"\u001b[0m\u001b[0;34m,\u001b[0m \u001b[0;34m'rb'\u001b[0m\u001b[0;34m)\u001b[0m \u001b[0;32mas\u001b[0m \u001b[0mentrada\u001b[0m\u001b[0;34m:\u001b[0m\u001b[0;34m\u001b[0m\u001b[0;34m\u001b[0m\u001b[0m\n\u001b[0m\u001b[1;32m      3\u001b[0m       \u001b[0;32mwith\u001b[0m \u001b[0mgzip\u001b[0m\u001b[0;34m.\u001b[0m\u001b[0mopen\u001b[0m\u001b[0;34m(\u001b[0m\u001b[0;34m\"/content/gdrive/My Drive/DesafioAlexandre/eventos_de_fluxo.csv\"\u001b[0m\u001b[0;34m,\u001b[0m \u001b[0;34m'wb'\u001b[0m\u001b[0;34m)\u001b[0m \u001b[0;32mas\u001b[0m \u001b[0msaida\u001b[0m\u001b[0;34m:\u001b[0m\u001b[0;34m\u001b[0m\u001b[0;34m\u001b[0m\u001b[0m\n\u001b[1;32m      4\u001b[0m        \u001b[0mshutil\u001b[0m\u001b[0;34m.\u001b[0m\u001b[0mcopyfileobj\u001b[0m\u001b[0;34m(\u001b[0m\u001b[0mentrada\u001b[0m\u001b[0;34m,\u001b[0m\u001b[0msaida\u001b[0m\u001b[0;34m)\u001b[0m\u001b[0;34m\u001b[0m\u001b[0;34m\u001b[0m\u001b[0m\n",
            "\u001b[0;31mNameError\u001b[0m: name 'gzip' is not defined"
          ]
        }
      ]
    },
    {
      "cell_type": "code",
      "source": [
        "#Importando bibliotecas\n",
        "from pyspark.sql import SparkSession\n",
        "from pyspark.sql.functions import *\n",
        "import pyspark\t\n",
        "from pyspark.sql.types import *\n",
        "import pandas as pd\n",
        "import requests as r\n",
        "import json\n",
        "from datetime import *\n",
        "from pyspark.sql import functions as Func\n",
        "import pytz "
      ],
      "metadata": {
        "id": "9Uz8TuFclIkJ"
      },
      "execution_count": 8,
      "outputs": []
    },
    {
      "cell_type": "code",
      "source": [
        "# Obtendo a data/hora atual\n",
        " \n",
        "date1 = datetime.now()\n",
        "date_atual = date1.strftime('%d/%m/%Y')\n",
        "hora_Atual = date1.strftime('%H:%M:%S')\n",
        "\n",
        "print('#### Processamento iniciado dia: '+date_atual+' as: '+hora_Atual+' ####' )"
      ],
      "metadata": {
        "colab": {
          "base_uri": "https://localhost:8080/"
        },
        "id": "8Xo9RrGHkMBO",
        "outputId": "1232d5df-5b7f-4bd8-bcd3-b8847c972922"
      },
      "execution_count": null,
      "outputs": [
        {
          "output_type": "stream",
          "name": "stdout",
          "text": [
            "#### Processamento iniciado dia: 08/06/2022 as: 22:35:59 ####\n"
          ]
        }
      ]
    },
    {
      "cell_type": "code",
      "source": [
        "# Transformando os arquivos em Dataframes.\n",
        "\n",
        "#Leando a fonte de dados eventos_de_fluxo.csv\n",
        "#Modificando os DataType \n",
        "eventosSchema = StructType([StructField(\"codigo\",StringType(),True),\n",
        "                          StructField(\"datetime\",StringType(),False),\n",
        "                          StructField(\"codigo_concorrente\",LongType(),False)])\n",
        "\n",
        "eventos = spark.read.csv(\"/content/gdrive/My Drive/DesafioAlexandre/eventos_de_fluxo.csv.gz\", sep=',' , inferSchema = 'True', schema = eventosSchema, header ='True')\n",
        "\n",
        "#Leando a fonte de dados concorrentes.cs\n",
        "concorrentesSchema = StructType(\n",
        "                          [StructField(\"codigo\",StringType(),True),\n",
        "                          StructField(\"nome\",StringType(),False),\n",
        "                          StructField(\"categoria\",StringType(),False),\n",
        "                          StructField(\"faixa_preco\",IntegerType(),False),\n",
        "                          StructField(\"endereco\",StringType(),False),\n",
        "                          StructField(\"municipio\",StringType(),False),\n",
        "                          StructField(\"uf\",StringType(),False),\n",
        "                          StructField(\"codigo_bairro\",StringType(),False)])\n",
        "\n",
        "concorrentes = spark.read.option(\"quote\",\"|\").csv(\"/content/gdrive/My Drive/DesafioAlexandre/concorrentes.csv\",  sep=',', inferSchema ='True', schema =concorrentesSchema, header='True' , encoding = 'UTF-8')\n",
        "\n",
        "\n",
        "#Leando a fonte de dados bairros.csv\n",
        "bairros = spark.read.csv(\"/content/gdrive/My Drive/DesafioAlexandre/bairros.csv\", sep=',', inferSchema ='True', header ='True')\n",
        "\n",
        "# Leando a fonte de dados populcao.json\n",
        "# Read multiline json file\n",
        "populacao = spark.read.option(\"multiline\",\"true\").json(\"/content/gdrive/My Drive/DesafioAlexandre/populacao.json\")"
      ],
      "metadata": {
        "id": "oTUOMXLIMOUF"
      },
      "execution_count": 10,
      "outputs": []
    },
    {
      "cell_type": "code",
      "source": [
        "eventos.printSchema()\n",
        "eventos.show(5, truncate=False)"
      ],
      "metadata": {
        "colab": {
          "base_uri": "https://localhost:8080/"
        },
        "id": "lljwn9rj1fLh",
        "outputId": "63c0761e-971e-4ae8-bc9f-f7fa160b7fbb"
      },
      "execution_count": null,
      "outputs": [
        {
          "output_type": "stream",
          "name": "stdout",
          "text": [
            "root\n",
            " |-- codigo: string (nullable = true)\n",
            " |-- datetime: string (nullable = true)\n",
            " |-- codigo_concorrente: long (nullable = true)\n",
            "\n",
            "+----------------------------------------------------------------+-----------------------+------------------+\n",
            "|codigo                                                          |datetime               |codigo_concorrente|\n",
            "+----------------------------------------------------------------+-----------------------+------------------+\n",
            "|oMn07h1bJYV0Wdx+RTzsDcT8JQlT7QXc7q8A/4y+cO5gBQKOUoYGBEn1EKY7LIg4|2017-07-27 09:51:02    |650509405109544   |\n",
            "|iZuQeTd9am+qfaiqnn5kkixogIbwN0nY2gtMwZqH9bFqph8qYvYchFRokjl3Pe/V|2017-06-24 14:00:26.405|650509405109544   |\n",
            "|iIMvwWSnQoW0aqQlcvjc8A6LvjkRX1HLppdkdQZapPVVv7VJLDVGqzqsaBrpuu+7|2017-07-06 21:51:11.056|650509405109544   |\n",
            "|jYaJZuli3fVSNDOs60if9VObBmCOoJP2x9H3IZP+6FsMRk/fZC8VHIoo683FEkKe|2017-07-02 14:27:09.316|650509405109544   |\n",
            "|jYaJZuli3fVSNDOs60if9VObBmCOoJP2x9H3IZP+6FsMRk/fZC8VHIoo683FEkKe|2017-07-15 03:03:29.731|650509405109544   |\n",
            "+----------------------------------------------------------------+-----------------------+------------------+\n",
            "only showing top 5 rows\n",
            "\n"
          ]
        }
      ]
    },
    {
      "cell_type": "code",
      "source": [
        "#############################\n",
        "concorrentes.printSchema()\n",
        "concorrentes.show(20, truncate=False)"
      ],
      "metadata": {
        "colab": {
          "base_uri": "https://localhost:8080/"
        },
        "id": "ngizCL5ul64B",
        "outputId": "c529ab24-6560-42e5-f639-bc95e3329c9c"
      },
      "execution_count": null,
      "outputs": [
        {
          "output_type": "stream",
          "name": "stdout",
          "text": [
            "root\n",
            " |-- codigo: string (nullable = true)\n",
            " |-- nome: string (nullable = true)\n",
            " |-- categoria: string (nullable = true)\n",
            " |-- faixa_preco: integer (nullable = true)\n",
            " |-- endereco: string (nullable = true)\n",
            " |-- municipio: string (nullable = true)\n",
            " |-- uf: string (nullable = true)\n",
            " |-- codigo_bairro: string (nullable = true)\n",
            "\n",
            "+---------------------------------------------------------------------------+-------------------------------+-------------------+-----------+-------------------------------------+---------------------+----------+-------------+\n",
            "|codigo                                                                     |nome                           |categoria          |faixa_preco|endereco                             |municipio            |uf        |codigo_bairro|\n",
            "+---------------------------------------------------------------------------+-------------------------------+-------------------+-----------+-------------------------------------+---------------------+----------+-------------+\n",
            "|431962533652067                                                            |Boizão Lanches                 |Bar                |2          |13190-000 Monte Mor                  |Monte Mor            |SP        |null         |\n",
            "|\"1663855903830869,Bar do Serjão,Bar,0,\"\"Rua das Dracenas                   | Americana\"\"                   |Americana          |null       |\"                                    |null                 |null      |null         |\n",
            "|567824576564110                                                            |Recanto Do Kuca                |Restaurant         |0          |Jarinu                               |Jarinu               |SP        |null         |\n",
            "|\"202740866540615,Dedé Abelhuda,Grocery Store,0,\"\"SP                        | 13150000 Cosmópolis\"\"         |Cosmópolis         |null       |\"                                    |null                 |null      |null         |\n",
            "|\"1784900838394305,Tenshi Sushi Boteco Itu,Sushi Restaurant,3,\"\"Av. Plaza   | 170                           | 13302-100 Itu\"\"   |null       |SP                                   |\"                    |null      |null         |\n",
            "|\"1539938616222537,Delicias de mãe,\"\"Restaurant                             | Other\"\"                       |1                  |null       |Itatiba                              |SP                   |\"         |null         |\n",
            "|315940385145609                                                            |ChokoLipe                      |Grocery Store      |0          |13315000 Cabreúva                    |Cabreúva             |SP        |null         |\n",
            "|\"294588290644303,O RANCHOo,Pub,0,\"\"Um dilema.                              | 13253-232 Itatiba\"\"           |Itatiba            |null       |\"                                    |null                 |null      |null         |\n",
            "|\"858228024202335,Kentinhas Já,Grocery Store,0,\"\"Centro                     | 13910000 Monte Alegre do Sul\"\"|Monte Alegre do Sul|null       |\"                                    |null                 |null      |null         |\n",
            "|\"1448899308695469,Sabores da Malu,Restaurant,0,\"\"Rua João XXIII            | 13321-310 Salto\"\"             |Salto              |null       |\"                                    |null                 |null      |null         |\n",
            "|\"1526789390972409,Marcia Panelas,Restaurant,1,\"\"rua nicaragua              | 13483508 Limeira\"\"            |Limeira            |null       |\"                                    |null                 |null      |null         |\n",
            "|\"1700971296862600,TajMahal,Bar,1,\"\"Rua: itapiru 74                         | 13320030 Salto\"\"              |Salto              |null       |\"                                    |null                 |null      |null         |\n",
            "|\"180052602330227,Taberna dos Amigos,\"\"Beer Bar                             | Event\"\"                       |2                  |null       |Indaiatuba                           |SP                   |\"         |null         |\n",
            "|\"247537718658995,Hotel Paradies Jarinu,\"\"Restaurant                        | Hotel Resort\"\"                |2                  |null       | 111                                 | 13240 Jarinu\"\"      |Jarinu    |SP           |\n",
            "|\"1370839242950091,Botequim do Corcovado,\"\"Pub                              | Just For Fun\"\"                |2                  |null       | 310                                 | 13320010 Salto\"\"    |Salto     |SP           |\n",
            "|\"448609401834009,Chopperia Paraty,\"\"Restaurant                             | Beer Garden\"\"                 |1                  |null       | 1630                                | 13901-350 Amparo    | Sao Paulo| Brazil\"\"    |\n",
            "|\"171694049632611,Pedreira/SP - Portal Do Circuito Das Águas,\"\"Beer Garden  | Park                          | City\"\"            |1          |\"\"marajoara rua luis francisco baseio| 13920-000 Pedreira\"\"|Pedreira  |SP           |\n",
            "|\"897582570307030,Bar Do Esquilo,Pub,3,\"\"Av.projetada 1                     | 13481-474 Limeira\"\"           |Limeira            |null       |\"                                    |null                 |null      |null         |\n",
            "|\"307825862726195,Santo Rango - Food Truck,\"\"Food Truck                     | Fast Food Restaurant\"\"        |2                  |null       | 13295-000 São Paulo\"\"               |São Paulo            |SP        |\"            |\n",
            "|\"919071714892787,Decol Lanches Hamburgueria E Açaiteria,\"\"Burger Restaurant| Cafeteria\"\"                   |1                  |null       | 13220480 Várzea Paulista\"\"          |Várzea Paulista      |SP        |\"            |\n",
            "+---------------------------------------------------------------------------+-------------------------------+-------------------+-----------+-------------------------------------+---------------------+----------+-------------+\n",
            "only showing top 20 rows\n",
            "\n"
          ]
        }
      ]
    },
    {
      "cell_type": "code",
      "source": [
        "concorrentes.select(\"codigo_bairro\").where(\"codigo_bairro\")"
      ],
      "metadata": {
        "colab": {
          "base_uri": "https://localhost:8080/"
        },
        "id": "zsFr6dRodu1g",
        "outputId": "341328cb-0c72-4789-8230-18a96383ce21"
      },
      "execution_count": null,
      "outputs": [
        {
          "output_type": "stream",
          "name": "stdout",
          "text": [
            "+--------------------+\n",
            "|       codigo_bairro|\n",
            "+--------------------+\n",
            "|                null|\n",
            "|                  SP|\n",
            "|                null|\n",
            "|                  SP|\n",
            "|                 Itu|\n",
            "|                  SP|\n",
            "|                null|\n",
            "|                  SP|\n",
            "|                  SP|\n",
            "|                  SP|\n",
            "|                  SP|\n",
            "|                  SP|\n",
            "|                  SP|\n",
            "|      13240 Jarinu\"\"|\n",
            "|    13320010 Salto\"\"|\n",
            "|    13901-350 Amparo|\n",
            "| 13920-000 Pedrei...|\n",
            "|                  SP|\n",
            "|           São Paulo|\n",
            "|     Várzea Paulista|\n",
            "+--------------------+\n",
            "only showing top 20 rows\n",
            "\n"
          ]
        }
      ]
    },
    {
      "cell_type": "code",
      "source": [
        ""
      ],
      "metadata": {
        "id": "fDv0wasCeLFX"
      },
      "execution_count": null,
      "outputs": []
    },
    {
      "cell_type": "code",
      "source": [
        "bairros.printSchema()\n",
        "bairros.show(10, truncate=False)"
      ],
      "metadata": {
        "colab": {
          "base_uri": "https://localhost:8080/"
        },
        "id": "ulKQvgfdmJAV",
        "outputId": "fad321b2-c55f-49b5-8ef0-e7abdae9fb66"
      },
      "execution_count": null,
      "outputs": [
        {
          "output_type": "stream",
          "name": "stdout",
          "text": [
            "root\n",
            " |-- codigo: long (nullable = true)\n",
            " |-- nome: string (nullable = true)\n",
            " |-- municipio: string (nullable = true)\n",
            " |-- uf: string (nullable = true)\n",
            " |-- area: double (nullable = true)\n",
            "\n",
            "+----------+------------------+-----------+---+--------+\n",
            "|codigo    |nome              |municipio  |uf |area    |\n",
            "+----------+------------------+-----------+---+--------+\n",
            "|355620110 |Observatório      |Valinhos   |SP |68.0009 |\n",
            "|3519071024|Rp 6-24           |Hortolândia|SP |0.981768|\n",
            "|3536505002|Jardim De Itapoan |Paulínia   |SP |0.808537|\n",
            "|3519071026|Rp 6-26           |Hortolândia|SP |2.21108 |\n",
            "|3536505001|Nova Paulínia     |Paulínia   |SP |0.386199|\n",
            "|3536505018|Balneário Tropical|Paulínia   |SP |1.70656 |\n",
            "|3536505019|Nova Veneza       |Paulínia   |SP |1.84108 |\n",
            "|35095090  |Campo Grande      |Campinas   |SP |47.0085 |\n",
            "|3536505021|Jardim Itapoan    |Paulínia   |SP |3.1602  |\n",
            "|3536505024|São Luiz          |Paulínia   |SP |0.12222 |\n",
            "+----------+------------------+-----------+---+--------+\n",
            "only showing top 10 rows\n",
            "\n"
          ]
        }
      ]
    },
    {
      "cell_type": "code",
      "source": [
        "populacao.printSchema()\n",
        "populacao.show(5, truncate=False)"
      ],
      "metadata": {
        "colab": {
          "base_uri": "https://localhost:8080/"
        },
        "id": "MfBEx8REmR0B",
        "outputId": "69bf72eb-0aab-4eb4-da95-5c867646b18c"
      },
      "execution_count": null,
      "outputs": [
        {
          "output_type": "stream",
          "name": "stdout",
          "text": [
            "root\n",
            " |-- codigo: long (nullable = true)\n",
            " |-- populacao: long (nullable = true)\n",
            "\n",
            "+----------+---------+\n",
            "|codigo    |populacao|\n",
            "+----------+---------+\n",
            "|355620110 |8717     |\n",
            "|3519071024|5764     |\n",
            "|3536505002|1195     |\n",
            "|3519071026|17840    |\n",
            "|3536505001|1252     |\n",
            "+----------+---------+\n",
            "only showing top 5 rows\n",
            "\n"
          ]
        }
      ]
    }
  ]
}